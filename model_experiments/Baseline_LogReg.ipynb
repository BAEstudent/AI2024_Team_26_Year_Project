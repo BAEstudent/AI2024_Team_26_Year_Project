{
 "cells": [
  {
   "cell_type": "markdown",
   "id": "f348fdbe",
   "metadata": {},
   "source": [
    "# ML experiments"
   ]
  },
  {
   "cell_type": "markdown",
   "id": "0e377192",
   "metadata": {},
   "source": [
    "### Импортируем библиотеки"
   ]
  },
  {
   "cell_type": "code",
   "execution_count": 1,
   "id": "8bafe281",
   "metadata": {},
   "outputs": [
    {
     "name": "stderr",
     "output_type": "stream",
     "text": [
      "C:\\Users\\kyuda\\anaconda3\\Lib\\site-packages\\pandas\\core\\arrays\\masked.py:60: UserWarning: Pandas requires version '1.3.6' or newer of 'bottleneck' (version '1.3.5' currently installed).\n",
      "  from pandas.core import (\n"
     ]
    }
   ],
   "source": [
    "import pandas as pd\n",
    "import numpy as np\n",
    "import matplotlib.pyplot as plt\n",
    "from sklearn.metrics import accuracy_score\n",
    "from sklearn.preprocessing import Normalizer\n",
    "from sklearn.pipeline import Pipeline\n",
    "from sklearn.model_selection import GridSearchCV\n",
    "from sklearn.metrics import accuracy_score\n",
    "from sklearn.decomposition import KernelPCA\n",
    "from sklearn.preprocessing import PolynomialFeatures\n",
    "from sklearn.ensemble import RandomTreesEmbedding\n",
    "from sklearn.linear_model import LogisticRegression\n",
    "from sklearn.preprocessing import StandardScaler\n",
    "from sklearn.pipeline import make_pipeline\n",
    "from sklearn.ensemble import StackingClassifier\n",
    "from sklearn.tree import ExtraTreeClassifier\n",
    "from sklearn.svm import LinearSVC"
   ]
  },
  {
   "cell_type": "markdown",
   "id": "ebd7b6f1",
   "metadata": {},
   "source": [
    "### Эксперименты с LogReg фичах V1_B5_456"
   ]
  },
  {
   "cell_type": "code",
   "execution_count": 2,
   "id": "763a39df",
   "metadata": {},
   "outputs": [],
   "source": [
    "# Загружаем данные\n",
    "X_train = pd.read_csv(\"./processed_images_data/X_train_V1_B5_456.csv\",  header=None)\n",
    "y_train = pd.read_csv(\"./processed_images_data/y_train_V1_B5_456.csv\", header=None).values.ravel()\n",
    "X_test = pd.read_csv(\"./processed_images_data/X_test_V1_B5_456.csv\",  header=None)\n",
    "y_test = pd.read_csv(\"./processed_images_data/y_test_V1_B5_456.csv\", header=None).values.ravel()"
   ]
  },
  {
   "cell_type": "code",
   "execution_count": 3,
   "id": "8dbe43c6",
   "metadata": {
    "scrolled": true
   },
   "outputs": [
    {
     "name": "stdout",
     "output_type": "stream",
     "text": [
      "Accuracy на тесте: 0.8590\n"
     ]
    }
   ],
   "source": [
    "# Baseline LogReg с дефолтными параметрами\n",
    "model = LogisticRegression(n_jobs=-1)\n",
    "model.fit(X_train, y_train)\n",
    "print(f\"Accuracy на тесте: {accuracy_score(y_test, model.predict(X_test)):.4f}\")"
   ]
  },
  {
   "cell_type": "code",
   "execution_count": 8,
   "id": "37dff3aa",
   "metadata": {},
   "outputs": [],
   "source": [
    "# Сохраняем baseline\n",
    "from pickle import dump\n",
    "with open(\"baseline_LogReg.pkl\", \"wb\") as f:\n",
    "    dump(model, f, protocol=5)"
   ]
  },
  {
   "cell_type": "code",
   "execution_count": 4,
   "id": "0da8a323",
   "metadata": {},
   "outputs": [
    {
     "name": "stdout",
     "output_type": "stream",
     "text": [
      "Accuracy на тесте c normal: 0.8647\n",
      "Accuracy на тесте c normal: 0.8492\n"
     ]
    }
   ],
   "source": [
    "# Применяем QuantileTransformer к фичам\n",
    "from sklearn.preprocessing import QuantileTransformer\n",
    "\n",
    "transformer = QuantileTransformer(output_distribution='normal').fit(X_train)\n",
    "quant_X_train = transformer.transform(X_train)\n",
    "quant_X_test = transformer.transform(X_test)\n",
    "\n",
    "quant_model = LogisticRegression(n_jobs=-1)\n",
    "quant_model.fit(quant_X_train, y_train)\n",
    "\n",
    "print(f\"Accuracy на тесте c normal: {accuracy_score(y_test, quant_model.predict(quant_X_test)):.4f}\")\n",
    "\n",
    "del quant_X_train, quant_X_test\n",
    "\n",
    "\n",
    "transformer = QuantileTransformer(output_distribution='uniform').fit(X_train)\n",
    "quant_X_train = transformer.transform(X_train)\n",
    "quant_X_test = transformer.transform(X_test)\n",
    "\n",
    "quant_model = LogisticRegression(n_jobs=-1)\n",
    "quant_model.fit(quant_X_train, y_train)\n",
    "\n",
    "print(f\"Accuracy на тесте c normal: {accuracy_score(y_test, quant_model.predict(quant_X_test)):.4f}\")\n",
    "\n",
    "del quant_X_train, quant_X_test"
   ]
  },
  {
   "cell_type": "markdown",
   "id": "71422dae",
   "metadata": {},
   "source": [
    "### Эксперименты с LogReg на фичах других EfficientNet-ов моделей"
   ]
  },
  {
   "cell_type": "code",
   "execution_count": 5,
   "id": "2b320651",
   "metadata": {},
   "outputs": [],
   "source": [
    "# Загружаем данные\n",
    "X_train = pd.read_csv(\"./processed_images_data/X_train_V1_B5_456.csv\",  header=None)\n",
    "y_train = pd.read_csv(\"./processed_images_data/y_train_V1_B5_456.csv\", header=None).values.ravel()\n",
    "X_test = pd.read_csv(\"./processed_images_data/X_test_V1_B5_456.csv\",  header=None)\n",
    "y_test = pd.read_csv(\"./processed_images_data/y_test_V1_B5_456.csv\", header=None).values.ravel()"
   ]
  },
  {
   "cell_type": "code",
   "execution_count": 7,
   "id": "8d1aa1ef",
   "metadata": {
    "scrolled": true
   },
   "outputs": [
    {
     "name": "stdout",
     "output_type": "stream",
     "text": [
      "Accuracy на тесте: 0.8590\n"
     ]
    }
   ],
   "source": [
    "# Подберем параметры LogReg с помощью grid search\n",
    "\n",
    "model = LogisticRegression(n_jobs=-1)\n",
    "\n",
    "model.fit(X_train, y_train)\n",
    "\n",
    "print(f\"Accuracy на тесте: {accuracy_score(y_test, model.predict(X_test)):.4f}\")"
   ]
  },
  {
   "cell_type": "code",
   "execution_count": 8,
   "id": "a290e9a6",
   "metadata": {},
   "outputs": [],
   "source": [
    "# Загружаем данные\n",
    "X_train = pd.read_csv(\"./processed_images_data/X_train_V2_L_480.csv\",  header=None)\n",
    "y_train = pd.read_csv(\"./processed_images_data/y_train_V2_L_480.csv\", header=None).values.ravel()\n",
    "X_test = pd.read_csv(\"./processed_images_data/X_test_V2_L_480.csv\",  header=None)\n",
    "y_test = pd.read_csv(\"./processed_images_data/y_test_V2_L_480.csv\", header=None).values.ravel()"
   ]
  },
  {
   "cell_type": "code",
   "execution_count": 9,
   "id": "221de276",
   "metadata": {
    "scrolled": true
   },
   "outputs": [
    {
     "name": "stdout",
     "output_type": "stream",
     "text": [
      "Accuracy на тесте: 0.8467\n"
     ]
    }
   ],
   "source": [
    "# Подберем параметры LogReg с помощью grid search\n",
    "\n",
    "model = LogisticRegression(n_jobs=-1)\n",
    "\n",
    "model.fit(X_train, y_train)\n",
    "\n",
    "print(f\"Accuracy на тесте: {accuracy_score(y_test, model.predict(X_test)):.4f}\")"
   ]
  },
  {
   "cell_type": "code",
   "execution_count": 10,
   "id": "7204faba",
   "metadata": {},
   "outputs": [],
   "source": [
    "# Загружаем данные\n",
    "X_train = pd.read_csv(\"./processed_images_data/X_train_V2_M_480.csv\",  header=None)\n",
    "y_train = pd.read_csv(\"./processed_images_data/y_train_V2_M_480.csv\", header=None).values.ravel()\n",
    "X_test = pd.read_csv(\"./processed_images_data/X_test_V2_M_480.csv\",  header=None)\n",
    "y_test = pd.read_csv(\"./processed_images_data/y_test_V2_M_480.csv\", header=None).values.ravel()"
   ]
  },
  {
   "cell_type": "code",
   "execution_count": 11,
   "id": "c23cc1a7",
   "metadata": {
    "scrolled": true
   },
   "outputs": [
    {
     "name": "stdout",
     "output_type": "stream",
     "text": [
      "Accuracy на тесте: 0.8434\n"
     ]
    }
   ],
   "source": [
    "# Подберем параметры LogReg с помощью grid search\n",
    "\n",
    "model = LogisticRegression(n_jobs=-1)\n",
    "\n",
    "model.fit(X_train, y_train)\n",
    "\n",
    "print(f\"Accuracy на тесте: {accuracy_score(y_test, model.predict(X_test)):.4f}\")"
   ]
  },
  {
   "cell_type": "code",
   "execution_count": 12,
   "id": "b8a2c9cd",
   "metadata": {},
   "outputs": [],
   "source": [
    "# Загружаем данные\n",
    "X_train = pd.read_csv(\"./processed_images_data/X_train_V2_S_384.csv\",  header=None)\n",
    "y_train = pd.read_csv(\"./processed_images_data/y_train_V2_S_384.csv\", header=None).values.ravel()\n",
    "X_test = pd.read_csv(\"./processed_images_data/X_test_V2_S_384.csv\",  header=None)\n",
    "y_test = pd.read_csv(\"./processed_images_data/y_test_V2_S_384.csv\", header=None).values.ravel()"
   ]
  },
  {
   "cell_type": "code",
   "execution_count": 13,
   "id": "f8d0092d",
   "metadata": {
    "scrolled": true
   },
   "outputs": [
    {
     "name": "stdout",
     "output_type": "stream",
     "text": [
      "Accuracy на тесте: 0.8491\n"
     ]
    }
   ],
   "source": [
    "# Подберем параметры LogReg с помощью grid search\n",
    "\n",
    "model = LogisticRegression(n_jobs=-1)\n",
    "\n",
    "model.fit(X_train, y_train)\n",
    "\n",
    "print(f\"Accuracy на тесте: {accuracy_score(y_test, model.predict(X_test)):.4f}\")"
   ]
  },
  {
   "cell_type": "code",
   "execution_count": 14,
   "id": "14d06ce2",
   "metadata": {},
   "outputs": [],
   "source": [
    "# Загружаем данные\n",
    "X_train = pd.read_csv(\"./processed_images_data/X_train_V2_S_450.csv\",  header=None)\n",
    "y_train = pd.read_csv(\"./processed_images_data/y_train_V2_S_450.csv\", header=None).values.ravel()\n",
    "X_test = pd.read_csv(\"./processed_images_data/X_test_V2_S_450.csv\",  header=None)\n",
    "y_test = pd.read_csv(\"./processed_images_data/y_test_V2_S_450.csv\", header=None).values.ravel()"
   ]
  },
  {
   "cell_type": "code",
   "execution_count": 15,
   "id": "816fd221",
   "metadata": {
    "scrolled": true
   },
   "outputs": [
    {
     "name": "stdout",
     "output_type": "stream",
     "text": [
      "Accuracy на тесте: 0.8416\n"
     ]
    }
   ],
   "source": [
    "# Подберем параметры LogReg с помощью grid search\n",
    "\n",
    "model = LogisticRegression(n_jobs=-1)\n",
    "\n",
    "model.fit(X_train, y_train)\n",
    "\n",
    "print(f\"Accuracy на тесте: {accuracy_score(y_test, model.predict(X_test)):.4f}\")"
   ]
  }
 ],
 "metadata": {
  "kernelspec": {
   "display_name": "Python 3 (ipykernel)",
   "language": "python",
   "name": "python3"
  },
  "language_info": {
   "codemirror_mode": {
    "name": "ipython",
    "version": 3
   },
   "file_extension": ".py",
   "mimetype": "text/x-python",
   "name": "python",
   "nbconvert_exporter": "python",
   "pygments_lexer": "ipython3",
   "version": "3.11.3"
  }
 },
 "nbformat": 4,
 "nbformat_minor": 5
}
